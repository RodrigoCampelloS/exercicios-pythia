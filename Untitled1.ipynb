{
 "cells": [
  {
   "cell_type": "code",
   "execution_count": 1,
   "metadata": {},
   "outputs": [],
   "source": [
    "#include <iostream>\n",
    "#include <string>\n",
    "#include <iomanip>\n",
    "#include <sstream>\n",
    "#include <fstream>\n",
    "#include <stdio.h>\n",
    "#include <string.h>\n",
    "\n",
    "void exercicio(){\n",
    "fstream file;\n",
    "file.open(\"myfile.txt\",ios::in);\n",
    "\n",
    "//iniciando variaveis\n",
    "double num[14157][6]; //criando o array que será preenchido a lista que foi gerada pelo pythia\n",
    "double massas[14157]; //criando o array que será preenchido com as massas reconstruidas a partir do TLorentzVector\n",
    "double Muon_pdg_mass = 0.1056583755; //massa do muon\n",
    "TLorentzVector mu_1; //TLorentzVector do muon1\n",
    "TLorentzVector mu_2; //TLorentzVector do muon2\n",
    "TLorentzVector jpsi; //TLorentzVector da soma dos muons\n",
    "TH1F *h1 = new TH1F(\"h1\", \"massa J/Psi\", 50, 0, 4);\n",
    "if ( file.is_open() ) {\n",
    "\tifstream take(\"myfile.txt\");\n",
    "\t//preenchimento do array com os dados obtidos pelo arquivo do pythia\n",
    "\tfor(int i = 0; i < 14157; ++i)\n",
    "        {\n",
    "        \tfor( int k=0; k<6;k++){\n",
    "\t\t\tfile >> num[i][k];\n",
    "\t\t\t\n",
    "        \t}\n",
    "        }\n",
    "        //reconstruindo a massa do J/Psi e preenchendo o histograma\n",
    "\tfor(int j = 0; j<14157;j++){\n",
    "\tmu_1.SetPtEtaPhiM(num[j][0], num[j][1], num[j][2], Muon_pdg_mass); //preenchendo o TLorentzVector do muon1\n",
    "\tmu_2.SetPtEtaPhiM(num[j][3], num[j][4], num[j][5], Muon_pdg_mass); //preenchendo o TLorentzVector do muon2\n",
    "\tjpsi = mu_1+mu_2; // somando os TLorentzVector em um outro TLorentzVector que irá gerar a massa\n",
    "\tmassas[j]=jpsi.M(); // armazenando a massa no array de massas\n",
    "\th1->Fill(massas[j]); // preenchendo histograma\n",
    "\th1->GetXaxis()->SetTitle(\"Gev/c^2\");\n",
    "\th1->GetYaxis()->SetTitle(\"events\");\n",
    "\th1->Draw();\n",
    "\t}\n",
    "}else{\n",
    "}\n",
    "file.close();\n",
    "}"
   ]
  },
  {
   "cell_type": "code",
   "execution_count": null,
   "metadata": {},
   "outputs": [],
   "source": []
  }
 ],
 "metadata": {
  "kernelspec": {
   "display_name": "ROOT C++",
   "language": "c++",
   "name": "root"
  },
  "language_info": {
   "codemirror_mode": "text/x-c++src",
   "file_extension": ".C",
   "mimetype": " text/x-c++src",
   "name": "c++"
  }
 },
 "nbformat": 4,
 "nbformat_minor": 4
}
